{
 "cells": [
  {
   "cell_type": "markdown",
   "metadata": {},
   "source": [
    "# *Offline Handwritten-Character Recognition*\n"
   ]
  },
  {
   "cell_type": "markdown",
   "metadata": {},
   "source": [
    "### Approach used\n",
    "1: Building model classifier using a CNN architecture.\n",
    "\n",
    "2: Apply character segmentation for the handwritten word image.\n",
    "\n",
    "3: Classify each segmented letter and then get the final word in the image."
   ]
  },
  {
   "cell_type": "markdown",
   "metadata": {},
   "source": [
    "### Importing the necessary modules"
   ]
  },
  {
   "cell_type": "code",
   "execution_count": 1,
   "metadata": {
    "_cell_guid": "79c7e3d0-c299-4dcb-8224-4455121ee9b0",
    "_uuid": "d629ff2d2480ee46fbb7e2d37f6b5fab8052498a"
   },
   "outputs": [],
   "source": [
    "import numpy as np\n",
    "import pandas as pd\n",
    "import tensorflow as tf\n",
    "from keras.preprocessing.image import ImageDataGenerator\n",
    "import os\n",
    "import random \n",
    "import cv2\n",
    "import imutils\n",
    "import matplotlib.pyplot as plt\n",
    "import seaborn as sns\n",
    "from sklearn.preprocessing import LabelBinarizer\n",
    "from keras.utils import np_utils\n",
    "from keras.models import Sequential\n",
    "from keras import optimizers\n",
    "from sklearn.preprocessing import LabelBinarizer\n",
    "from keras import backend as K\n",
    "from keras.layers import Dense, Activation, Flatten, Dense,MaxPooling2D, Dropout\n",
    "from keras.layers import Conv2D, MaxPooling2D, BatchNormalization"
   ]
  },
  {
   "cell_type": "markdown",
   "metadata": {},
   "source": [
    "### Feature independence plot "
   ]
  },
  {
   "cell_type": "code",
   "execution_count": 2,
   "metadata": {
    "scrolled": false
   },
   "outputs": [
    {
     "data": {
      "image/png": "[encoded data removed]",
      "text/plain": [
       "<Figure size 640x480 with 1 Axes>"
      ]
     },
     "metadata": {},
     "output_type": "display_data"
    }
   ],
   "source": [
    "img1=plt.imread(\"D:/DDASE/test/TEST_0007.jpg\")\n",
    "img1=np.array(img1)\n",
    "implot=plt.imshow(img1, cmap='hot')"
   ]
  },
  {
   "cell_type": "markdown",
   "metadata": {},
   "source": [
    "### Dataset Importation\n",
    " Our dataset was downlaoded and was found to contain separate folders for train and validation\n",
    "#### Importing training dataset \n",
    "Storing it into a list for ease of access and operability\n",
    "os.path.join() concatenates the file path of a the imported images with a specific image for it to be read and stored in a list\n",
    "os.listdir() method in python is used to get the list of all files and directories in the specified directory. If we don’t specify any directory, then list of files and directories in the current working directory will be returned.\n"
   ]
  },
  {
   "cell_type": "code",
   "execution_count": 3,
   "metadata": {},
   "outputs": [],
   "source": [
    "dir = \"D:/mDa/dataset/train/\" \n",
    "train_data = []\n",
    "img_size = 32\n",
    "non_chars = [\"#\",\"$\",\"&\",\"@\"]\n",
    "for i in os.listdir(dir):\n",
    "    if i in non_chars:\n",
    "        continue\n",
    "    count = 0\n",
    "    sub_directory = os.path.join(dir,i) \n",
    "    for j in os.listdir(sub_directory):\n",
    "        count+=1\n",
    "        if count > 4000:\n",
    "            break\n",
    "        img = cv2.imread(os.path.join(sub_directory,j),0)\n",
    "        img = cv2.resize(img,(img_size,img_size))\n",
    "        train_data.append([img,i])"
   ]
  },
  {
   "cell_type": "code",
   "execution_count": 4,
   "metadata": {},
   "outputs": [
    {
     "data": {
      "text/plain": [
       "18104"
      ]
     },
     "execution_count": 4,
     "metadata": {},
     "output_type": "execute_result"
    }
   ],
   "source": [
    "len(train_data)"
   ]
  },
  {
   "cell_type": "markdown",
   "metadata": {},
   "source": [
    "### Importing our validation set\n",
    "cv2.imread() method loads an image from the specified file. If the image cannot be read (because of missing file, improper permissions, unsupported or invalid format) then this method returns an empty matrix.\n",
    "Syntax: cv2.imread(path, flag)\n",
    "Parameters:path: A string representing the path of the image to be read. flag: It specifies the way in which image should be read. It’s default value is cv2.IMREAD_COLOR\n",
    "Return Value: This method returns an image that is loaded from the specified file."
   ]
  },
  {
   "cell_type": "code",
   "execution_count": 5,
   "metadata": {},
   "outputs": [],
   "source": [
    "val_dir = \"D:/mDa/dataset/Validation/\"\n",
    "val_data = []\n",
    "img_size = 32\n",
    "for i in os.listdir(val_dir):\n",
    "    if i in non_chars:\n",
    "        continue\n",
    "    count = 0\n",
    "    sub_directory = os.path.join(val_dir,i)\n",
    "    for j in os.listdir(sub_directory):\n",
    "        count+=1\n",
    "        if count > 1000:\n",
    "            break\n",
    "        img = cv2.imread(os.path.join(sub_directory,j),0)\n",
    "        img = cv2.resize(img,(img_size,img_size))\n",
    "        val_data.append([img,i])"
   ]
  },
  {
   "cell_type": "code",
   "execution_count": 6,
   "metadata": {},
   "outputs": [
    {
     "data": {
      "text/plain": [
       "15209"
      ]
     },
     "execution_count": 6,
     "metadata": {},
     "output_type": "execute_result"
    }
   ],
   "source": [
    "len(val_data)"
   ]
  },
  {
   "cell_type": "markdown",
   "metadata": {},
   "source": [
    "### The shuffle() method takes a sequence, like a list, and reorganize the order of the items.\n",
    "\n",
    "This method changes the original list, it does not return a new list."
   ]
  },
  {
   "cell_type": "code",
   "execution_count": 7,
   "metadata": {},
   "outputs": [],
   "source": [
    "random.shuffle(train_data)\n",
    "random.shuffle(val_data)"
   ]
  },
  {
   "cell_type": "markdown",
   "metadata": {},
   "source": [
    "### Splitting our train data into x and y i.e features and labels"
   ]
  },
  {
   "cell_type": "code",
   "execution_count": 9,
   "metadata": {},
   "outputs": [],
   "source": [
    "train_X = []\n",
    "train_Y = []\n",
    "for features,label in train_data:\n",
    "    train_X.append(features)\n",
    "    train_Y.append(label)\n",
    "    \n",
    "    "
   ]
  },
  {
   "cell_type": "markdown",
   "metadata": {},
   "source": [
    "### Splitting our validation data into x and y i.e features and labels\n",
    "\n"
   ]
  },
  {
   "cell_type": "code",
   "execution_count": 10,
   "metadata": {},
   "outputs": [],
   "source": [
    "val_X = []\n",
    "val_Y = []\n",
    "for features,label in val_data:\n",
    "    val_X.append(features)\n",
    "    val_Y.append(label)"
   ]
  },
  {
   "cell_type": "markdown",
   "metadata": {},
   "source": [
    "### Binarisation, converting of our labels into binary digits"
   ]
  },
  {
   "cell_type": "code",
   "execution_count": 11,
   "metadata": {},
   "outputs": [],
   "source": [
    "LB = LabelBinarizer()\n",
    "train_Y = LB.fit_transform(train_Y)\n",
    "val_Y = LB.fit_transform(val_Y)"
   ]
  },
  {
   "cell_type": "markdown",
   "metadata": {},
   "source": [
    "### Converting our dataset into a numpy array\n",
    "\n",
    "In Machine Learning, Python uses the image data in the format of height, width and Channel format. i.e. Images are converted into Numpy Array in height, width, channel format.\n",
    "Hence, to save time during training, it is useful to convert a dataset of images to numpy arrays.\n",
    "By dividing the array by 255.0, we normalise the data to a scale from 0 to 1\n",
    "\n",
    "Images and their pixel values range from 0 to 256. Each number represents a color code. When using the image as it is and passing through a Deep Neural Network, the computation of high numeric values may become more complex and to reduce this we normalize the values to range from 0 to 1.\n",
    "\n",
    "In this way, the numbers will be small and the computation becomes easier and faster. As the pixel values range from 0 to 256, apart from 0 the range is 255. So dividing all the values by 255 will convert it to range from 0 to 1."
   ]
  },
  {
   "cell_type": "code",
   "execution_count": 12,
   "metadata": {},
   "outputs": [],
   "source": [
    "train_X = np.array(train_X)/255.0\n",
    "train_X = train_X.reshape(-1,32,32,1)\n",
    "train_Y = np.array(train_Y)"
   ]
  },
  {
   "cell_type": "code",
   "execution_count": 13,
   "metadata": {},
   "outputs": [],
   "source": [
    "val_X = np.array(val_X)/255.0\n",
    "val_X = val_X.reshape(-1,32,32,1)\n",
    "val_Y = np.array(val_Y)"
   ]
  },
  {
   "cell_type": "markdown",
   "metadata": {},
   "source": [
    "### Analysing the shape(dimensions) of our train and validation sets"
   ]
  },
  {
   "cell_type": "code",
   "execution_count": 14,
   "metadata": {},
   "outputs": [
    {
     "name": "stdout",
     "output_type": "stream",
     "text": [
      "(18104, 32, 32, 1) (15209, 32, 32, 1)\n"
     ]
    }
   ],
   "source": [
    "print(train_X.shape,val_X.shape)"
   ]
  },
  {
   "cell_type": "code",
   "execution_count": 15,
   "metadata": {},
   "outputs": [
    {
     "name": "stdout",
     "output_type": "stream",
     "text": [
      "(18104, 35) (15209, 35)\n"
     ]
    }
   ],
   "source": [
    "print(train_Y.shape,val_Y.shape)"
   ]
  },
  {
   "cell_type": "markdown",
   "metadata": {},
   "source": [
    "### Creating the Convolution Neural Network(CNN) model and hyperparameter tuning\n",
    "Hyperparameters are the variables which determines the network structure and the variables which determine how the network is trained. The hyperparameters to tune are the number of neurons, activation function, optimizer, learning rate, batch size, and epochs."
   ]
  },
  {
   "cell_type": "code",
   "execution_count": 16,
   "metadata": {},
   "outputs": [],
   "source": [
    "model = Sequential()\n",
    "\n",
    "model.add(Conv2D(32, (3, 3), padding = \"same\", activation='relu', input_shape=(32,32,1)))\n",
    "model.add(MaxPooling2D(pool_size=(2,2)))\n",
    "model.add(Conv2D(64, (3, 3), activation='relu'))\n",
    "model.add(MaxPooling2D(pool_size=(2,2)))\n",
    "model.add(Conv2D(128, (3, 3), activation='relu'))\n",
    "model.add(MaxPooling2D(pool_size=(2,2)))\n",
    "model.add(Dropout(0.25))\n",
    " \n",
    "model.add(Flatten())\n",
    "model.add(Dense(128, activation='relu'))\n",
    "model.add(Dropout(0.2))\n",
    "model.add(Dense(35, activation='softmax'))"
   ]
  },
  {
   "cell_type": "code",
   "execution_count": 17,
   "metadata": {},
   "outputs": [
    {
     "name": "stdout",
     "output_type": "stream",
     "text": [
      "Model: \"sequential\"\n",
      "_________________________________________________________________\n",
      " Layer (type)                Output Shape              Param #   \n",
      "=================================================================\n",
      " conv2d (Conv2D)             (None, 32, 32, 32)        320       \n",
      "                                                                 \n",
      " max_pooling2d (MaxPooling2D  (None, 16, 16, 32)       0         \n",
      " )                                                               \n",
      "                                                                 \n",
      " conv2d_1 (Conv2D)           (None, 14, 14, 64)        18496     \n",
      "                                                                 \n",
      " max_pooling2d_1 (MaxPooling  (None, 7, 7, 64)         0         \n",
      " 2D)                                                             \n",
      "                                                                 \n",
      " conv2d_2 (Conv2D)           (None, 5, 5, 128)         73856     \n",
      "                                                                 \n",
      " max_pooling2d_2 (MaxPooling  (None, 2, 2, 128)        0         \n",
      " 2D)                                                             \n",
      "                                                                 \n",
      " dropout (Dropout)           (None, 2, 2, 128)         0         \n",
      "                                                                 \n",
      " flatten (Flatten)           (None, 512)               0         \n",
      "                                                                 \n",
      " dense (Dense)               (None, 128)               65664     \n",
      "                                                                 \n",
      " dropout_1 (Dropout)         (None, 128)               0         \n",
      "                                                                 \n",
      " dense_1 (Dense)             (None, 35)                4515      \n",
      "                                                                 \n",
      "=================================================================\n",
      "Total params: 162,851\n",
      "Trainable params: 162,851\n",
      "Non-trainable params: 0\n",
      "_________________________________________________________________\n"
     ]
    }
   ],
   "source": [
    "model.summary()"
   ]
  },
  {
   "cell_type": "markdown",
   "metadata": {},
   "source": [
    "### Model compilation"
   ]
  },
  {
   "cell_type": "code",
   "execution_count": 18,
   "metadata": {},
   "outputs": [],
   "source": [
    "model.compile(loss='categorical_crossentropy', optimizer=\"adam\",metrics=['accuracy'])"
   ]
  },
  {
   "cell_type": "markdown",
   "metadata": {},
   "source": [
    "### Model Training"
   ]
  },
  {
   "cell_type": "code",
   "execution_count": 19,
   "metadata": {
    "scrolled": true
   },
   "outputs": [
    {
     "name": "stdout",
     "output_type": "stream",
     "text": [
      "Epoch 1/70\n",
      "566/566 - 26s - loss: 1.1997 - accuracy: 0.6706 - val_loss: 0.4215 - val_accuracy: 0.8685 - 26s/epoch - 47ms/step\n",
      "Epoch 2/70\n",
      "566/566 - 22s - loss: 0.4706 - accuracy: 0.8537 - val_loss: 0.2849 - val_accuracy: 0.9133 - 22s/epoch - 40ms/step\n",
      "Epoch 3/70\n",
      "566/566 - 23s - loss: 0.3612 - accuracy: 0.8861 - val_loss: 0.2302 - val_accuracy: 0.9270 - 23s/epoch - 41ms/step\n",
      "Epoch 4/70\n",
      "566/566 - 22s - loss: 0.3029 - accuracy: 0.9018 - val_loss: 0.1886 - val_accuracy: 0.9392 - 22s/epoch - 39ms/step\n",
      "Epoch 5/70\n",
      "566/566 - 23s - loss: 0.2639 - accuracy: 0.9127 - val_loss: 0.1554 - val_accuracy: 0.9480 - 23s/epoch - 41ms/step\n",
      "Epoch 6/70\n",
      "566/566 - 22s - loss: 0.2297 - accuracy: 0.9231 - val_loss: 0.1518 - val_accuracy: 0.9462 - 22s/epoch - 40ms/step\n",
      "Epoch 7/70\n",
      "566/566 - 22s - loss: 0.2164 - accuracy: 0.9264 - val_loss: 0.1337 - val_accuracy: 0.9528 - 22s/epoch - 39ms/step\n",
      "Epoch 8/70\n",
      "566/566 - 23s - loss: 0.1919 - accuracy: 0.9338 - val_loss: 0.1251 - val_accuracy: 0.9553 - 23s/epoch - 41ms/step\n",
      "Epoch 9/70\n",
      "566/566 - 23s - loss: 0.1860 - accuracy: 0.9339 - val_loss: 0.1093 - val_accuracy: 0.9613 - 23s/epoch - 41ms/step\n",
      "Epoch 10/70\n",
      "566/566 - 23s - loss: 0.1701 - accuracy: 0.9396 - val_loss: 0.0967 - val_accuracy: 0.9659 - 23s/epoch - 40ms/step\n",
      "Epoch 11/70\n",
      "566/566 - 23s - loss: 0.1634 - accuracy: 0.9435 - val_loss: 0.0827 - val_accuracy: 0.9709 - 23s/epoch - 41ms/step\n",
      "Epoch 12/70\n",
      "566/566 - 22s - loss: 0.1532 - accuracy: 0.9465 - val_loss: 0.0909 - val_accuracy: 0.9645 - 22s/epoch - 39ms/step\n",
      "Epoch 13/70\n",
      "566/566 - 24s - loss: 0.1463 - accuracy: 0.9479 - val_loss: 0.0787 - val_accuracy: 0.9719 - 24s/epoch - 42ms/step\n",
      "Epoch 14/70\n",
      "566/566 - 25s - loss: 0.1412 - accuracy: 0.9493 - val_loss: 0.0680 - val_accuracy: 0.9733 - 25s/epoch - 44ms/step\n",
      "Epoch 15/70\n",
      "566/566 - 24s - loss: 0.1359 - accuracy: 0.9506 - val_loss: 0.0728 - val_accuracy: 0.9729 - 24s/epoch - 43ms/step\n",
      "Epoch 16/70\n",
      "566/566 - 24s - loss: 0.1294 - accuracy: 0.9529 - val_loss: 0.0702 - val_accuracy: 0.9731 - 24s/epoch - 43ms/step\n",
      "Epoch 17/70\n",
      "566/566 - 24s - loss: 0.1126 - accuracy: 0.9593 - val_loss: 0.0609 - val_accuracy: 0.9753 - 24s/epoch - 42ms/step\n",
      "Epoch 18/70\n",
      "566/566 - 25s - loss: 0.1223 - accuracy: 0.9556 - val_loss: 0.0537 - val_accuracy: 0.9794 - 25s/epoch - 44ms/step\n",
      "Epoch 19/70\n",
      "566/566 - 24s - loss: 0.1152 - accuracy: 0.9587 - val_loss: 0.0567 - val_accuracy: 0.9772 - 24s/epoch - 42ms/step\n",
      "Epoch 20/70\n",
      "566/566 - 23s - loss: 0.1136 - accuracy: 0.9583 - val_loss: 0.0551 - val_accuracy: 0.9797 - 23s/epoch - 40ms/step\n",
      "Epoch 21/70\n",
      "566/566 - 23s - loss: 0.1019 - accuracy: 0.9638 - val_loss: 0.0481 - val_accuracy: 0.9804 - 23s/epoch - 41ms/step\n",
      "Epoch 22/70\n",
      "566/566 - 23s - loss: 0.0979 - accuracy: 0.9644 - val_loss: 0.0485 - val_accuracy: 0.9812 - 23s/epoch - 40ms/step\n",
      "Epoch 23/70\n",
      "566/566 - 24s - loss: 0.1041 - accuracy: 0.9617 - val_loss: 0.0490 - val_accuracy: 0.9789 - 24s/epoch - 42ms/step\n",
      "Epoch 24/70\n",
      "566/566 - 24s - loss: 0.0947 - accuracy: 0.9662 - val_loss: 0.0410 - val_accuracy: 0.9841 - 24s/epoch - 42ms/step\n",
      "Epoch 25/70\n",
      "566/566 - 22s - loss: 0.0953 - accuracy: 0.9646 - val_loss: 0.0416 - val_accuracy: 0.9842 - 22s/epoch - 39ms/step\n",
      "Epoch 26/70\n",
      "566/566 - 24s - loss: 0.0896 - accuracy: 0.9672 - val_loss: 0.0375 - val_accuracy: 0.9856 - 24s/epoch - 43ms/step\n",
      "Epoch 27/70\n",
      "566/566 - 23s - loss: 0.0914 - accuracy: 0.9664 - val_loss: 0.0399 - val_accuracy: 0.9855 - 23s/epoch - 41ms/step\n",
      "Epoch 28/70\n",
      "566/566 - 24s - loss: 0.0833 - accuracy: 0.9687 - val_loss: 0.0358 - val_accuracy: 0.9856 - 24s/epoch - 42ms/step\n",
      "Epoch 29/70\n",
      "566/566 - 22s - loss: 0.0791 - accuracy: 0.9708 - val_loss: 0.0366 - val_accuracy: 0.9862 - 22s/epoch - 40ms/step\n",
      "Epoch 30/70\n",
      "566/566 - 22s - loss: 0.0786 - accuracy: 0.9697 - val_loss: 0.0335 - val_accuracy: 0.9888 - 22s/epoch - 39ms/step\n",
      "Epoch 31/70\n",
      "566/566 - 23s - loss: 0.0794 - accuracy: 0.9702 - val_loss: 0.0344 - val_accuracy: 0.9847 - 23s/epoch - 41ms/step\n",
      "Epoch 32/70\n",
      "566/566 - 23s - loss: 0.0777 - accuracy: 0.9707 - val_loss: 0.0302 - val_accuracy: 0.9889 - 23s/epoch - 40ms/step\n",
      "Epoch 33/70\n",
      "566/566 - 23s - loss: 0.0752 - accuracy: 0.9726 - val_loss: 0.0340 - val_accuracy: 0.9857 - 23s/epoch - 40ms/step\n",
      "Epoch 34/70\n",
      "566/566 - 24s - loss: 0.0714 - accuracy: 0.9740 - val_loss: 0.0338 - val_accuracy: 0.9857 - 24s/epoch - 42ms/step\n",
      "Epoch 35/70\n",
      "566/566 - 23s - loss: 0.0738 - accuracy: 0.9737 - val_loss: 0.0269 - val_accuracy: 0.9899 - 23s/epoch - 40ms/step\n",
      "Epoch 36/70\n",
      "566/566 - 24s - loss: 0.0681 - accuracy: 0.9749 - val_loss: 0.0296 - val_accuracy: 0.9878 - 24s/epoch - 42ms/step\n",
      "Epoch 37/70\n",
      "566/566 - 22s - loss: 0.0694 - accuracy: 0.9755 - val_loss: 0.0267 - val_accuracy: 0.9887 - 22s/epoch - 40ms/step\n",
      "Epoch 38/70\n",
      "566/566 - 23s - loss: 0.0706 - accuracy: 0.9741 - val_loss: 0.0268 - val_accuracy: 0.9891 - 23s/epoch - 40ms/step\n",
      "Epoch 39/70\n",
      "566/566 - 24s - loss: 0.0712 - accuracy: 0.9742 - val_loss: 0.0310 - val_accuracy: 0.9870 - 24s/epoch - 43ms/step\n",
      "Epoch 40/70\n",
      "566/566 - 24s - loss: 0.0682 - accuracy: 0.9749 - val_loss: 0.0269 - val_accuracy: 0.9899 - 24s/epoch - 42ms/step\n",
      "Epoch 41/70\n",
      "566/566 - 29s - loss: 0.0700 - accuracy: 0.9743 - val_loss: 0.0208 - val_accuracy: 0.9926 - 29s/epoch - 50ms/step\n",
      "Epoch 42/70\n",
      "566/566 - 26s - loss: 0.0626 - accuracy: 0.9781 - val_loss: 0.0287 - val_accuracy: 0.9874 - 26s/epoch - 45ms/step\n",
      "Epoch 43/70\n",
      "566/566 - 23s - loss: 0.0663 - accuracy: 0.9770 - val_loss: 0.0230 - val_accuracy: 0.9908 - 23s/epoch - 41ms/step\n",
      "Epoch 44/70\n",
      "566/566 - 25s - loss: 0.0576 - accuracy: 0.9786 - val_loss: 0.0189 - val_accuracy: 0.9938 - 25s/epoch - 43ms/step\n",
      "Epoch 45/70\n",
      "566/566 - 23s - loss: 0.0652 - accuracy: 0.9769 - val_loss: 0.0195 - val_accuracy: 0.9924 - 23s/epoch - 40ms/step\n",
      "Epoch 46/70\n",
      "566/566 - 23s - loss: 0.0564 - accuracy: 0.9804 - val_loss: 0.0196 - val_accuracy: 0.9924 - 23s/epoch - 41ms/step\n",
      "Epoch 47/70\n",
      "566/566 - 24s - loss: 0.0582 - accuracy: 0.9788 - val_loss: 0.0236 - val_accuracy: 0.9897 - 24s/epoch - 42ms/step\n",
      "Epoch 48/70\n",
      "566/566 - 22s - loss: 0.0611 - accuracy: 0.9776 - val_loss: 0.0181 - val_accuracy: 0.9920 - 22s/epoch - 39ms/step\n",
      "Epoch 49/70\n",
      "566/566 - 23s - loss: 0.0559 - accuracy: 0.9811 - val_loss: 0.0162 - val_accuracy: 0.9938 - 23s/epoch - 41ms/step\n",
      "Epoch 50/70\n",
      "566/566 - 23s - loss: 0.0533 - accuracy: 0.9812 - val_loss: 0.0204 - val_accuracy: 0.9933 - 23s/epoch - 41ms/step\n",
      "Epoch 51/70\n",
      "566/566 - 23s - loss: 0.0573 - accuracy: 0.9794 - val_loss: 0.0160 - val_accuracy: 0.9945 - 23s/epoch - 41ms/step\n",
      "Epoch 52/70\n",
      "566/566 - 23s - loss: 0.0512 - accuracy: 0.9824 - val_loss: 0.0168 - val_accuracy: 0.9935 - 23s/epoch - 40ms/step\n",
      "Epoch 53/70\n",
      "566/566 - 23s - loss: 0.0521 - accuracy: 0.9822 - val_loss: 0.0162 - val_accuracy: 0.9940 - 23s/epoch - 40ms/step\n",
      "Epoch 54/70\n",
      "566/566 - 24s - loss: 0.0565 - accuracy: 0.9799 - val_loss: 0.0185 - val_accuracy: 0.9934 - 24s/epoch - 43ms/step\n",
      "Epoch 55/70\n",
      "566/566 - 22s - loss: 0.0518 - accuracy: 0.9823 - val_loss: 0.0150 - val_accuracy: 0.9947 - 22s/epoch - 39ms/step\n",
      "Epoch 56/70\n",
      "566/566 - 22s - loss: 0.0580 - accuracy: 0.9796 - val_loss: 0.0161 - val_accuracy: 0.9934 - 22s/epoch - 39ms/step\n",
      "Epoch 57/70\n",
      "566/566 - 24s - loss: 0.0491 - accuracy: 0.9824 - val_loss: 0.0149 - val_accuracy: 0.9952 - 24s/epoch - 43ms/step\n",
      "Epoch 58/70\n",
      "566/566 - 22s - loss: 0.0557 - accuracy: 0.9802 - val_loss: 0.0137 - val_accuracy: 0.9944 - 22s/epoch - 39ms/step\n",
      "Epoch 59/70\n",
      "566/566 - 23s - loss: 0.0429 - accuracy: 0.9841 - val_loss: 0.0147 - val_accuracy: 0.9946 - 23s/epoch - 41ms/step\n",
      "Epoch 60/70\n",
      "566/566 - 23s - loss: 0.0525 - accuracy: 0.9816 - val_loss: 0.0170 - val_accuracy: 0.9942 - 23s/epoch - 40ms/step\n",
      "Epoch 61/70\n",
      "566/566 - 23s - loss: 0.0505 - accuracy: 0.9808 - val_loss: 0.0157 - val_accuracy: 0.9941 - 23s/epoch - 40ms/step\n",
      "Epoch 62/70\n",
      "566/566 - 23s - loss: 0.0516 - accuracy: 0.9809 - val_loss: 0.0149 - val_accuracy: 0.9935 - 23s/epoch - 41ms/step\n",
      "Epoch 63/70\n",
      "566/566 - 23s - loss: 0.0489 - accuracy: 0.9822 - val_loss: 0.0129 - val_accuracy: 0.9959 - 23s/epoch - 40ms/step\n",
      "Epoch 64/70\n",
      "566/566 - 23s - loss: 0.0442 - accuracy: 0.9837 - val_loss: 0.0156 - val_accuracy: 0.9929 - 23s/epoch - 40ms/step\n",
      "Epoch 65/70\n",
      "566/566 - 23s - loss: 0.0462 - accuracy: 0.9843 - val_loss: 0.0137 - val_accuracy: 0.9947 - 23s/epoch - 41ms/step\n",
      "Epoch 66/70\n"
     ]
    },
    {
     "name": "stdout",
     "output_type": "stream",
     "text": [
      "566/566 - 23s - loss: 0.0437 - accuracy: 0.9845 - val_loss: 0.0113 - val_accuracy: 0.9955 - 23s/epoch - 41ms/step\n",
      "Epoch 67/70\n",
      "566/566 - 25s - loss: 0.0460 - accuracy: 0.9842 - val_loss: 0.0131 - val_accuracy: 0.9947 - 25s/epoch - 44ms/step\n",
      "Epoch 68/70\n",
      "566/566 - 23s - loss: 0.0433 - accuracy: 0.9849 - val_loss: 0.0103 - val_accuracy: 0.9973 - 23s/epoch - 40ms/step\n",
      "Epoch 69/70\n",
      "566/566 - 22s - loss: 0.0396 - accuracy: 0.9864 - val_loss: 0.0103 - val_accuracy: 0.9963 - 22s/epoch - 39ms/step\n",
      "Epoch 70/70\n",
      "566/566 - 23s - loss: 0.0404 - accuracy: 0.9849 - val_loss: 0.0129 - val_accuracy: 0.9954 - 23s/epoch - 41ms/step\n"
     ]
    }
   ],
   "source": [
    "history = model.fit(train_X,train_Y, epochs=70\n",
    "                    , batch_size=32, validation_data = (val_X, val_Y),  verbose=2)"
   ]
  },
  {
   "cell_type": "markdown",
   "metadata": {},
   "source": [
    "### Accuracy and Loss plots as the model trains"
   ]
  },
  {
   "cell_type": "code",
   "execution_count": 20,
   "metadata": {
    "scrolled": true
   },
   "outputs": [
    {
     "data": {
      "image/png": "[encoded data removed]",
      "text/plain": [
       "<Figure size 640x480 with 1 Axes>"
      ]
     },
     "metadata": {},
     "output_type": "display_data"
    }
   ],
   "source": [
    "plt.plot(history.history['accuracy'])\n",
    "plt.plot(history.history['val_accuracy'])\n",
    "plt.title('Training Accuracy vs Validation Accuracy')\n",
    "plt.ylabel('Accuracy')\n",
    "plt.xlabel('Epoch')\n",
    "plt.legend(['Train', 'Validation'], loc='upper left')\n",
    "plt.show()"
   ]
  },
  {
   "cell_type": "code",
   "execution_count": 21,
   "metadata": {},
   "outputs": [
    {
     "data": {
      "image/png": "[encoded data removed]",
      "text/plain": [
       "<Figure size 640x480 with 1 Axes>"
      ]
     },
     "metadata": {},
     "output_type": "display_data"
    }
   ],
   "source": [
    "plt.plot(history.history['loss'])\n",
    "plt.plot(history.history['val_loss'])\n",
    "plt.title('Training Loss vs Validation Loss')\n",
    "plt.ylabel('Loss')\n",
    "plt.xlabel('Epoch')\n",
    "plt.legend(['Train', 'Validation'], loc='upper left')\n",
    "plt.show()"
   ]
  },
  {
   "cell_type": "code",
   "execution_count": 22,
   "metadata": {},
   "outputs": [
    {
     "name": "stdout",
     "output_type": "stream",
     "text": [
      "476/476 [==============================] - 5s 11ms/step - loss: 0.0129 - accuracy: 0.9954\n"
     ]
    },
    {
     "data": {
      "text/plain": [
       "[0.012900217436254025, 0.9953974485397339]"
      ]
     },
     "execution_count": 22,
     "metadata": {},
     "output_type": "execute_result"
    }
   ],
   "source": [
    "model.evaluate(val_X, val_Y)"
   ]
  },
  {
   "cell_type": "markdown",
   "metadata": {},
   "source": [
    "### Recognition and Post-Processing \n",
    "1. The sort contours function is used to get the correct order of individual characters for correct output extraction. In this case for extracting a single word, a left to right sorting of individual characters is needed.\n",
    "2. The get letters function fetches the list of letters and get word function gets the individual word. "
   ]
  },
  {
   "cell_type": "code",
   "execution_count": 23,
   "metadata": {},
   "outputs": [],
   "source": [
    "def sort_contours(cnts, method=\"left-to-right\"):\n",
    "    reverse = False\n",
    "    i = 0\n",
    "    if method == \"right-to-left\" or method == \"bottom-to-top\":\n",
    "        reverse = True\n",
    "    if method == \"top-to-bottom\" or method == \"bottom-to-top\":\n",
    "        i = 1\n",
    "    boundingBoxes = [cv2.boundingRect(c) for c in cnts]\n",
    "    (cnts, boundingBoxes) = zip(*sorted(zip(cnts, boundingBoxes),\n",
    "    key=lambda b:b[1][i], reverse=reverse))\n",
    "    # return the list of sorted contours and bounding boxes\n",
    "    return (cnts, boundingBoxes)"
   ]
  },
  {
   "cell_type": "code",
   "execution_count": 24,
   "metadata": {},
   "outputs": [],
   "source": [
    "def get_letters(img):\n",
    "    letters = []\n",
    "    image = cv2.imread(img)\n",
    "    gray = cv2.cvtColor(image, cv2.COLOR_BGR2GRAY)\n",
    "    ret,thresh1 = cv2.threshold(gray ,127,255,cv2.THRESH_BINARY_INV)\n",
    "    dilated = cv2.dilate(thresh1, None, iterations=2)\n",
    "\n",
    "    cnts = cv2.findContours(dilated.copy(), cv2.RETR_EXTERNAL,cv2.CHAIN_APPROX_SIMPLE)\n",
    "    cnts = imutils.grab_contours(cnts)\n",
    "    cnts = sort_contours(cnts, method=\"left-to-right\")[0]\n",
    "    # loop over the contours\n",
    "    for c in cnts:\n",
    "        if cv2.contourArea(c) > 10:\n",
    "            (x, y, w, h) = cv2.boundingRect(c)\n",
    "            cv2.rectangle(image, (x, y), (x + w, y + h), (0, 255, 0), 2)\n",
    "        roi = gray[y:y + h, x:x + w]\n",
    "        thresh = cv2.threshold(roi, 0, 255,cv2.THRESH_BINARY_INV | cv2.THRESH_OTSU)[1]\n",
    "        thresh = cv2.resize(thresh, (32, 32), interpolation = cv2.INTER_CUBIC)\n",
    "        thresh = thresh.astype(\"float32\") / 255.0\n",
    "        thresh = np.expand_dims(thresh, axis=-1)\n",
    "        thresh = thresh.reshape(1,32,32,1)\n",
    "        ypred = model.predict(thresh)\n",
    "        ypred = LB.inverse_transform(ypred)\n",
    "        [x] = ypred\n",
    "        letters.append(x)\n",
    "    return letters, image\n",
    "\n",
    "#plt.imshow(image)"
   ]
  },
  {
   "cell_type": "code",
   "execution_count": 25,
   "metadata": {},
   "outputs": [],
   "source": [
    "def get_word(letter):\n",
    "    word = \"\".join(letter)\n",
    "    return word"
   ]
  },
  {
   "cell_type": "code",
   "execution_count": 26,
   "metadata": {
    "scrolled": true
   },
   "outputs": [
    {
     "name": "stdout",
     "output_type": "stream",
     "text": [
      "1/1 [==============================] - 0s 163ms/step\n",
      "1/1 [==============================] - 0s 22ms/step\n",
      "1/1 [==============================] - 0s 22ms/step\n",
      "1/1 [==============================] - 0s 22ms/step\n",
      "4RIS\n"
     ]
    },
    {
     "data": {
      "text/plain": [
       "<matplotlib.image.AxesImage at 0x13b9884d310>"
      ]
     },
     "execution_count": 26,
     "metadata": {},
     "output_type": "execute_result"
    },
    {
     "data": {
      "image/png": "[encoded data removed]",
      "text/plain": [
       "<Figure size 640x480 with 1 Axes>"
      ]
     },
     "metadata": {},
     "output_type": "display_data"
    }
   ],
   "source": [
    "letter,image = get_letters(\"D:\\\\DDASE\\\\test\\\\TEST_0047.jpg\")\n",
    "word = get_word(letter)\n",
    "print(word)\n",
    "plt.imshow(image)"
   ]
  },
  {
   "cell_type": "code",
   "execution_count": 28,
   "metadata": {},
   "outputs": [
    {
     "name": "stdout",
     "output_type": "stream",
     "text": [
      "1/1 [==============================] - 0s 23ms/step\n",
      "1/1 [==============================] - 0s 23ms/step\n",
      "1/1 [==============================] - 0s 23ms/step\n",
      "1/1 [==============================] - 0s 22ms/step\n",
      "1/1 [==============================] - 0s 22ms/step\n",
      "1/1 [==============================] - 0s 23ms/step\n",
      "1/1 [==============================] - 0s 23ms/step\n",
      "1/1 [==============================] - 0s 23ms/step\n",
      "CFKCLIWG\n"
     ]
    },
    {
     "data": {
      "text/plain": [
       "<matplotlib.image.AxesImage at 0x13b98857f10>"
      ]
     },
     "execution_count": 28,
     "metadata": {},
     "output_type": "execute_result"
    },
    {
     "data": {
      "image/png": "[encoded data removed]",
      "text/plain": [
       "<Figure size 640x480 with 1 Axes>"
      ]
     },
     "metadata": {},
     "output_type": "display_data"
    }
   ],
   "source": [
    "letter,image = get_letters(\"D:\\\\DDASE\\\\test\\\\TEST_0040.jpg\")\n",
    "word = get_word(letter)\n",
    "print(word)\n",
    "plt.imshow(image)"
   ]
  },
  {
   "cell_type": "code",
   "execution_count": 29,
   "metadata": {
    "scrolled": true
   },
   "outputs": [
    {
     "name": "stdout",
     "output_type": "stream",
     "text": [
      "1/1 [==============================] - 0s 23ms/step\n",
      "1/1 [==============================] - 0s 24ms/step\n",
      "1/1 [==============================] - 0s 22ms/step\n",
      "1/1 [==============================] - 0s 24ms/step\n",
      "1/1 [==============================] - 0s 24ms/step\n",
      "MILLC\n"
     ]
    },
    {
     "data": {
      "text/plain": [
       "<matplotlib.image.AxesImage at 0x13b98c738b0>"
      ]
     },
     "execution_count": 29,
     "metadata": {},
     "output_type": "execute_result"
    },
    {
     "data": {
      "image/png": "[encoded data removed]",
      "text/plain": [
       "<Figure size 640x480 with 1 Axes>"
      ]
     },
     "metadata": {},
     "output_type": "display_data"
    }
   ],
   "source": [
    "letter,image = get_letters(\"D:\\\\DDASE\\\\test\\\\TEST_0039.jpg\")\n",
    "word = get_word(letter)\n",
    "print(word)\n",
    "plt.imshow(image)"
   ]
  },
  {
   "cell_type": "code",
   "execution_count": 30,
   "metadata": {},
   "outputs": [
    {
     "name": "stdout",
     "output_type": "stream",
     "text": [
      "1/1 [==============================] - 0s 29ms/step\n",
      "1/1 [==============================] - 0s 36ms/step\n",
      "1/1 [==============================] - 0s 37ms/step\n",
      "1/1 [==============================] - 0s 26ms/step\n",
      "1/1 [==============================] - 0s 24ms/step\n",
      "1/1 [==============================] - 0s 28ms/step\n",
      "1/1 [==============================] - 0s 28ms/step\n",
      "1/1 [==============================] - 0s 24ms/step\n",
      "1/1 [==============================] - 0s 28ms/step\n",
      "VALFNTJNF\n"
     ]
    },
    {
     "data": {
      "text/plain": [
       "<matplotlib.image.AxesImage at 0x13b98b20b50>"
      ]
     },
     "execution_count": 30,
     "metadata": {},
     "output_type": "execute_result"
    },
    {
     "data": {
      "image/png": "[encoded data removed]",
      "text/plain": [
       "<Figure size 640x480 with 1 Axes>"
      ]
     },
     "metadata": {},
     "output_type": "display_data"
    }
   ],
   "source": [
    "letter,image = get_letters(\"D:/DDASE/test/TEST_0007.jpg\")\n",
    "word = get_word(letter)\n",
    "print(word)\n",
    "plt.imshow(image)"
   ]
  },
  {
   "cell_type": "markdown",
   "metadata": {},
   "source": [
    "## In Conclusion,\n",
    "Line segmentation, word segmentation, character segmentation, classification, post-processing. These steps are followed\n"
   ]
  }
 ],
 "metadata": {
  "kernelspec": {
   "display_name": "Python 3 (ipykernel)",
   "language": "python",
   "name": "python3"
  },
  "language_info": {
   "codemirror_mode": {
    "name": "ipython",
    "version": 3
   },
   "file_extension": ".py",
   "mimetype": "text/x-python",
   "name": "python",
   "nbconvert_exporter": "python",
   "pygments_lexer": "ipython3",
   "version": "3.9.13"
  }
 },
 "nbformat": 4,
 "nbformat_minor": 4
}
